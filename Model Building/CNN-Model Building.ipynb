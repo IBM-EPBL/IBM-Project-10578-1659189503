{
 "cells": [
  {
   "cell_type": "code",
   "execution_count": 1,
   "id": "b1e5141a",
   "metadata": {},
   "outputs": [],
   "source": [
    "from keras.preprocessing.image import ImageDataGenerator"
   ]
  },
  {
   "cell_type": "code",
   "execution_count": 2,
   "id": "09a54770",
   "metadata": {},
   "outputs": [],
   "source": [
    "#setting parameter for Image Data agumentation to the training data\n",
    "train_datagen = ImageDataGenerator(rescale=1./255,shear_range=0.2,zoom_range=0.2,horizontal_flip=True)\n",
    "#Image Data agumentation to the testing data\n",
    "test_datagen=ImageDataGenerator(rescale=1./255)"
   ]
  },
  {
   "cell_type": "code",
   "execution_count": 3,
   "id": "963bf702",
   "metadata": {},
   "outputs": [
    {
     "name": "stdout",
     "output_type": "stream",
     "text": [
      "Found 2626 images belonging to 5 classes.\n",
      "Found 1055 images belonging to 5 classes.\n"
     ]
    }
   ],
   "source": [
    "#performing data agumentation to train data\n",
    "x_train = train_datagen.flow_from_directory(r'E:\\IBM_Project\\TRAIN_SET',target_size=(64, 64),batch_size=5,color_mode='rgb',class_mode='sparse')\n",
    "#performing data agumentation to test data\n",
    "x_test = test_datagen.flow_from_directory(r'E:\\IBM_Project\\TEST_SET',target_size=(64, 64),batch_size=5,color_mode='rgb',class_mode='sparse') \n"
   ]
  },
  {
   "cell_type": "code",
   "execution_count": 4,
   "id": "29548913",
   "metadata": {},
   "outputs": [],
   "source": [
    "import numpy as np\n",
    "from keras.models import Sequential\n",
    "from keras.layers import Dense,Flatten,Conv2D,MaxPooling2D,Dropout\n",
    "import scipy"
   ]
  },
  {
   "cell_type": "code",
   "execution_count": 5,
   "id": "7b7fd3d1",
   "metadata": {},
   "outputs": [],
   "source": [
    "model=Sequential()"
   ]
  },
  {
   "cell_type": "code",
   "execution_count": 6,
   "id": "9df66e43",
   "metadata": {},
   "outputs": [],
   "source": [
    "classifier=Sequential() \n",
    "classifier.add(Conv2D(32, (3, 3),input_shape=(64, 64, 3), activation='relu')) \n",
    "classifier.add(MaxPooling2D(pool_size=(2, 2))) \n",
    "classifier.add(Conv2D(32, (3, 3), activation='relu'))\n",
    "classifier.add(MaxPooling2D(pool_size=(2, 2))) \n",
    "classifier.add(Flatten()) "
   ]
  },
  {
   "cell_type": "code",
   "execution_count": 7,
   "id": "48ca9eed",
   "metadata": {},
   "outputs": [],
   "source": [
    "classifier.add(Dense(units=128,activation='relu'))\n",
    "classifier.add(Dense(units=5,activation='softmax'))"
   ]
  },
  {
   "cell_type": "code",
   "execution_count": 8,
   "id": "b1ec8990",
   "metadata": {},
   "outputs": [
    {
     "name": "stdout",
     "output_type": "stream",
     "text": [
      "Model: \"sequential_1\"\n",
      "_________________________________________________________________\n",
      " Layer (type)                Output Shape              Param #   \n",
      "=================================================================\n",
      " conv2d (Conv2D)             (None, 62, 62, 32)        896       \n",
      "                                                                 \n",
      " max_pooling2d (MaxPooling2D  (None, 31, 31, 32)       0         \n",
      " )                                                               \n",
      "                                                                 \n",
      " conv2d_1 (Conv2D)           (None, 29, 29, 32)        9248      \n",
      "                                                                 \n",
      " max_pooling2d_1 (MaxPooling  (None, 14, 14, 32)       0         \n",
      " 2D)                                                             \n",
      "                                                                 \n",
      " flatten (Flatten)           (None, 6272)              0         \n",
      "                                                                 \n",
      " dense (Dense)               (None, 128)               802944    \n",
      "                                                                 \n",
      " dense_1 (Dense)             (None, 5)                 645       \n",
      "                                                                 \n",
      "=================================================================\n",
      "Total params: 813,733\n",
      "Trainable params: 813,733\n",
      "Non-trainable params: 0\n",
      "_________________________________________________________________\n"
     ]
    }
   ],
   "source": [
    "classifier.summary()"
   ]
  },
  {
   "cell_type": "code",
   "execution_count": 9,
   "id": "fcbb0762",
   "metadata": {},
   "outputs": [],
   "source": [
    "classifier.compile(optimizer='adam', loss='sparse_categorical_crossentropy', metrics=['accuracy']) "
   ]
  },
  {
   "cell_type": "code",
   "execution_count": 10,
   "id": "fe1c0d2c",
   "metadata": {},
   "outputs": [
    {
     "name": "stderr",
     "output_type": "stream",
     "text": [
      "C:\\Users\\HAPPY\\AppData\\Local\\Temp\\ipykernel_5084\\44351418.py:1: UserWarning: `Model.fit_generator` is deprecated and will be removed in a future version. Please use `Model.fit`, which supports generators.\n",
      "  classifier.fit_generator(\n"
     ]
    },
    {
     "name": "stdout",
     "output_type": "stream",
     "text": [
      "Epoch 1/20\n",
      "526/526 [==============================] - 61s 114ms/step - loss: 0.1382 - accuracy: 0.9524 - val_loss: 0.0255 - val_accuracy: 0.9867\n",
      "Epoch 2/20\n",
      "526/526 [==============================] - 19s 35ms/step - loss: 0.0216 - accuracy: 0.9935 - val_loss: 0.0121 - val_accuracy: 0.9943\n",
      "Epoch 3/20\n",
      "526/526 [==============================] - 19s 36ms/step - loss: 0.0184 - accuracy: 0.9943 - val_loss: 0.0411 - val_accuracy: 0.9820\n",
      "Epoch 4/20\n",
      "526/526 [==============================] - 20s 38ms/step - loss: 6.9527e-05 - accuracy: 1.0000 - val_loss: 0.0472 - val_accuracy: 0.9754\n",
      "Epoch 5/20\n",
      "526/526 [==============================] - 20s 37ms/step - loss: 3.6160e-05 - accuracy: 1.0000 - val_loss: 0.0350 - val_accuracy: 0.9848\n",
      "Epoch 6/20\n",
      "526/526 [==============================] - 20s 37ms/step - loss: 8.3112e-05 - accuracy: 1.0000 - val_loss: 0.0514 - val_accuracy: 0.9801\n",
      "Epoch 7/20\n",
      "526/526 [==============================] - 20s 38ms/step - loss: 1.3292e-05 - accuracy: 1.0000 - val_loss: 0.0401 - val_accuracy: 0.9848\n",
      "Epoch 8/20\n",
      "526/526 [==============================] - 20s 39ms/step - loss: 7.7658e-06 - accuracy: 1.0000 - val_loss: 0.0274 - val_accuracy: 0.9896\n",
      "Epoch 9/20\n",
      "526/526 [==============================] - 20s 38ms/step - loss: 6.0170e-06 - accuracy: 1.0000 - val_loss: 0.0297 - val_accuracy: 0.9820\n",
      "Epoch 10/20\n",
      "526/526 [==============================] - 21s 40ms/step - loss: 4.4193e-06 - accuracy: 1.0000 - val_loss: 0.0412 - val_accuracy: 0.9791\n",
      "Epoch 11/20\n",
      "526/526 [==============================] - 22s 42ms/step - loss: 3.5176e-06 - accuracy: 1.0000 - val_loss: 0.0342 - val_accuracy: 0.9801\n",
      "Epoch 12/20\n",
      "526/526 [==============================] - 22s 41ms/step - loss: 2.7885e-06 - accuracy: 1.0000 - val_loss: 0.0397 - val_accuracy: 0.9820\n",
      "Epoch 13/20\n",
      "526/526 [==============================] - 22s 42ms/step - loss: 2.1186e-06 - accuracy: 1.0000 - val_loss: 0.0264 - val_accuracy: 0.9915\n",
      "Epoch 14/20\n",
      "526/526 [==============================] - 19s 36ms/step - loss: 1.3492e-06 - accuracy: 1.0000 - val_loss: 0.0445 - val_accuracy: 0.9810\n",
      "Epoch 15/20\n",
      "526/526 [==============================] - 20s 38ms/step - loss: 1.7433e-06 - accuracy: 1.0000 - val_loss: 0.0324 - val_accuracy: 0.9848\n",
      "Epoch 16/20\n",
      "526/526 [==============================] - 21s 40ms/step - loss: 1.2478e-06 - accuracy: 1.0000 - val_loss: 0.0336 - val_accuracy: 0.9829\n",
      "Epoch 17/20\n",
      "526/526 [==============================] - 20s 38ms/step - loss: 8.8117e-07 - accuracy: 1.0000 - val_loss: 0.0345 - val_accuracy: 0.9877\n",
      "Epoch 18/20\n",
      "526/526 [==============================] - 20s 38ms/step - loss: 4.0506e-07 - accuracy: 1.0000 - val_loss: 0.0398 - val_accuracy: 0.9801\n",
      "Epoch 19/20\n",
      "526/526 [==============================] - 19s 37ms/step - loss: 4.2712e-07 - accuracy: 1.0000 - val_loss: 0.0400 - val_accuracy: 0.9801\n",
      "Epoch 20/20\n",
      "526/526 [==============================] - 20s 37ms/step - loss: 2.8308e-07 - accuracy: 1.0000 - val_loss: 0.0295 - val_accuracy: 0.9801\n"
     ]
    },
    {
     "data": {
      "text/plain": [
       "<keras.callbacks.History at 0x24b6018c220>"
      ]
     },
     "execution_count": 10,
     "metadata": {},
     "output_type": "execute_result"
    }
   ],
   "source": [
    "classifier.fit_generator( \n",
    "    generator=x_train,steps_per_epoch = len(x_train), epochs=20,\n",
    "    validation_data=x_test,validation_steps=len(x_test))"
   ]
  },
  {
   "cell_type": "code",
   "execution_count": 11,
   "id": "66c47d19",
   "metadata": {},
   "outputs": [],
   "source": [
    "classifier.save('nutrition.h5')"
   ]
  },
  {
   "cell_type": "code",
   "execution_count": 12,
   "id": "7c11b0f6",
   "metadata": {},
   "outputs": [],
   "source": [
    "from keras.models import load_model\n",
    "from keras.preprocessing import image\n",
    "from tensorflow.keras.utils import load_img, img_to_array\n",
    "model=load_model(\"nutrition.h5\")"
   ]
  },
  {
   "cell_type": "code",
   "execution_count": 13,
   "id": "9f9027fa",
   "metadata": {},
   "outputs": [
    {
     "name": "stdout",
     "output_type": "stream",
     "text": [
      "1/1 [==============================] - 0s 174ms/step\n"
     ]
    },
    {
     "data": {
      "text/plain": [
       "array([2], dtype=int64)"
      ]
     },
     "execution_count": 13,
     "metadata": {},
     "output_type": "execute_result"
    }
   ],
   "source": [
    "img=load_img(r\"E:\\IBM_Project\\Sample\\orange.jpg\",grayscale=False,target_size=(64,64))\n",
    "x=img_to_array(img)\n",
    "x=np.expand_dims(x,axis=0)\n",
    "predict_x=model.predict(x) \n",
    "pred = np.argmax(predict_x,axis=1)\n",
    "pred"
   ]
  },
  {
   "cell_type": "code",
   "execution_count": 14,
   "id": "891052ec",
   "metadata": {},
   "outputs": [
    {
     "data": {
      "text/plain": [
       "'ORANGE'"
      ]
     },
     "execution_count": 14,
     "metadata": {},
     "output_type": "execute_result"
    }
   ],
   "source": [
    "index=['APPELES','BANANA','ORANGE','PINEAPPLE','WATERMELON']\n",
    "result=str(index[pred[0]])\n",
    "result"
   ]
  },
  {
   "cell_type": "code",
   "execution_count": null,
   "id": "a1da8a9d",
   "metadata": {},
   "outputs": [],
   "source": []
  }
 ],
 "metadata": {
  "kernelspec": {
   "display_name": "Python 3 (ipykernel)",
   "language": "python",
   "name": "python3"
  },
  "language_info": {
   "codemirror_mode": {
    "name": "ipython",
    "version": 3
   },
   "file_extension": ".py",
   "mimetype": "text/x-python",
   "name": "python",
   "nbconvert_exporter": "python",
   "pygments_lexer": "ipython3",
   "version": "3.8.1"
  }
 },
 "nbformat": 4,
 "nbformat_minor": 5
}
